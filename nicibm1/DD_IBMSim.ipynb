{
 "cells": [
  {
   "cell_type": "markdown",
   "metadata": {},
   "source": [
    "# Dynamical Decoupling with IBM Simulator/ QC"
   ]
  },
  {
   "cell_type": "code",
   "execution_count": 1,
   "metadata": {},
   "outputs": [],
   "source": [
    "import numpy as np\n",
    "from qiskit import QuantumCircuit, execute, BasicAer\n",
    "from qiskit import IBMQ, Aer\n",
    "from qiskit.visualization import plot_histogram\n",
    "from qiskit.providers.aer.noise import NoiseModel\n",
    "from qiskit import transpile, schedule as build_schedule\n",
    "%matplotlib inline"
   ]
  },
  {
   "cell_type": "code",
   "execution_count": 2,
   "metadata": {},
   "outputs": [],
   "source": [
    "# Build noise model from backend properties\n",
    "provider = IBMQ.load_account()\n",
    "#backend = provider.get_backend('ibmq_vigo')\n",
    "backend = provider.get_backend('ibmq_ourense')\n",
    "noise_model = NoiseModel.from_backend(backend)\n",
    "\n",
    "# Get coupling map from backend\n",
    "coupling_map = backend.configuration().coupling_map\n",
    "\n",
    "# Get basis gates from noise model\n",
    "basis_gates = noise_model.basis_gates"
   ]
  },
  {
   "cell_type": "code",
   "execution_count": 8,
   "metadata": {},
   "outputs": [
    {
     "data": {
      "text/plain": [
       "<qiskit.circuit.instructionset.InstructionSet at 0x7fdd88643ac0>"
      ]
     },
     "execution_count": 8,
     "metadata": {},
     "output_type": "execute_result"
    }
   ],
   "source": [
    "qcf = QuantumCircuit(1, 1)\n",
    "num_Is = 0\n",
    "cycles = 1\n",
    "tot_gates = 4\n",
    "#qcf.h(0)\n",
    "for i in range(tot_gates * cycles):\n",
    "    qcf.barrier(0)\n",
    "    qcf.id(0)\n",
    "    for j in range(num_Is):\n",
    "        qcf.barrier(0)\n",
    "        qcf.id(0)\n",
    "qcf.barrier(0)\n",
    "qcf.measure(0,0)"
   ]
  },
  {
   "cell_type": "code",
   "execution_count": 9,
   "metadata": {},
   "outputs": [
    {
     "data": {
      "text/html": [
       "<pre style=\"word-wrap: normal;white-space: pre;background: #fff0;line-height: 1.1;font-family: &quot;Courier New&quot;,Courier,monospace\">      ░ ┌───┐ ░ ┌───┐ ░ ┌───┐ ░ ┌───┐ ░ ┌─┐\n",
       "q_0: ─░─┤ I ├─░─┤ I ├─░─┤ I ├─░─┤ I ├─░─┤M├\n",
       "      ░ └───┘ ░ └───┘ ░ └───┘ ░ └───┘ ░ └╥┘\n",
       "c_0: ════════════════════════════════════╩═\n",
       "                                           </pre>"
      ],
      "text/plain": [
       "      ░ ┌───┐ ░ ┌───┐ ░ ┌───┐ ░ ┌───┐ ░ ┌─┐\n",
       "q_0: ─░─┤ I ├─░─┤ I ├─░─┤ I ├─░─┤ I ├─░─┤M├\n",
       "      ░ └───┘ ░ └───┘ ░ └───┘ ░ └───┘ ░ └╥┘\n",
       "c_0: ════════════════════════════════════╩═\n",
       "                                           "
      ]
     },
     "execution_count": 9,
     "metadata": {},
     "output_type": "execute_result"
    }
   ],
   "source": [
    "transpiled_circ = transpile(qcf, backend) \n",
    "schedule = build_schedule(transpiled_circ, backend)\n",
    "transpiled_circ.draw()"
   ]
  },
  {
   "cell_type": "code",
   "execution_count": 10,
   "metadata": {},
   "outputs": [
    {
     "name": "stdout",
     "output_type": "stream",
     "text": [
      "<InstructionScheduleMap(1Q instructions:\n",
      "  q0: {'id', 'u3', 'u2', 'measure', 'u1', 'x'}\n",
      "Multi qubit instructions:\n",
      ")>\n"
     ]
    }
   ],
   "source": [
    "inst_map = backend.defaults().instruction_schedule_map\n",
    "print(inst_map)"
   ]
  },
  {
   "cell_type": "markdown",
   "metadata": {},
   "source": [
    "## Testing the Ideal XY4 Pulse Sequence with Armonk Noise Simulation\n",
    "$$ XY4 = Y.f.X.f.Y.f.X.f $$"
   ]
  },
  {
   "cell_type": "code",
   "execution_count": 3,
   "metadata": {},
   "outputs": [
    {
     "data": {
      "text/html": [
       "<pre style=\"word-wrap: normal;white-space: pre;background: #fff0;line-height: 1.1;font-family: &quot;Courier New&quot;,Courier,monospace\">      ░ ┌───┐ ░ ┌───┐ ░ ┌───┐ ░ ┌───┐ ░ ┌─┐\n",
       "q_0: ─░─┤ I ├─░─┤ I ├─░─┤ I ├─░─┤ I ├─░─┤M├\n",
       "      ░ └───┘ ░ └───┘ ░ └───┘ ░ └───┘ ░ └╥┘\n",
       "c_0: ════════════════════════════════════╩═\n",
       "                                           </pre>"
      ],
      "text/plain": [
       "      ░ ┌───┐ ░ ┌───┐ ░ ┌───┐ ░ ┌───┐ ░ ┌─┐\n",
       "q_0: ─░─┤ I ├─░─┤ I ├─░─┤ I ├─░─┤ I ├─░─┤M├\n",
       "      ░ └───┘ ░ └───┘ ░ └───┘ ░ └───┘ ░ └╥┘\n",
       "c_0: ════════════════════════════════════╩═\n",
       "                                           "
      ]
     },
     "execution_count": 3,
     "metadata": {},
     "output_type": "execute_result"
    }
   ],
   "source": [
    "## an 8 tau circuit without DD (just free evolution)\n",
    "qcf = QuantumCircuit(1, 1)\n",
    "num_Is = 0\n",
    "cycles = 1\n",
    "tot_gates = 4\n",
    "#qcf.h(0)\n",
    "for i in range(tot_gates * cycles):\n",
    "    qcf.barrier(0)\n",
    "    qcf.id(0)\n",
    "    for j in range(num_Is):\n",
    "        qcf.barrier(0)\n",
    "        qcf.id(0)\n",
    "qcf.barrier(0)\n",
    "qcf.measure(0,0)\n",
    "qcf.draw()"
   ]
  },
  {
   "cell_type": "code",
   "execution_count": 11,
   "metadata": {
    "jupyter": {
     "source_hidden": true
    }
   },
   "outputs": [
    {
     "data": {
      "text/html": [
       "<pre style=\"word-wrap: normal;white-space: pre;background: #fff0;line-height: 1.1;font-family: &quot;Courier New&quot;,Courier,monospace\">      ░ ┌───┐ ░ ┌───┐ ░ ┌───┐ ░ ┌───┐ ░ ┌─┐\n",
       "q_0: ─░─┤ I ├─░─┤ I ├─░─┤ I ├─░─┤ I ├─░─┤M├\n",
       "      ░ └───┘ ░ └───┘ ░ └───┘ ░ └───┘ ░ └╥┘\n",
       "c_0: ════════════════════════════════════╩═\n",
       "                                           </pre>"
      ],
      "text/plain": [
       "      ░ ┌───┐ ░ ┌───┐ ░ ┌───┐ ░ ┌───┐ ░ ┌─┐\n",
       "q_0: ─░─┤ I ├─░─┤ I ├─░─┤ I ├─░─┤ I ├─░─┤M├\n",
       "      ░ └───┘ ░ └───┘ ░ └───┘ ░ └───┘ ░ └╥┘\n",
       "c_0: ════════════════════════════════════╩═\n",
       "                                           "
      ]
     },
     "execution_count": 11,
     "metadata": {},
     "output_type": "execute_result"
    }
   ],
   "source": [
    "transpiled_circ = transpile(qcf, backend) \n",
    "schedule = build_schedule(transpiled_circ, backend)\n",
    "transpiled_circ.draw()"
   ]
  },
  {
   "cell_type": "code",
   "execution_count": 4,
   "metadata": {},
   "outputs": [
    {
     "data": {
      "image/png": "[encoded data removed]",
      "text/plain": [
       "<Figure size 504x360 with 1 Axes>"
      ]
     },
     "execution_count": 4,
     "metadata": {},
     "output_type": "execute_result"
    }
   ],
   "source": [
    "result = execute(qcf, Aer.get_backend('qasm_simulator'),\n",
    "                 coupling_map=coupling_map,\n",
    "                 basis_gates=basis_gates,\n",
    "                 noise_model=noise_model).result()\n",
    "counts = result.get_counts(0)\n",
    "plot_histogram(counts)"
   ]
  },
  {
   "cell_type": "code",
   "execution_count": 13,
   "metadata": {},
   "outputs": [],
   "source": [
    "def xy4(circ, cycles, num_Is):\n",
    "    #circ.h(0)\n",
    "    for j in range(cycles):\n",
    "        circ.barrier(0)\n",
    "        circ.y(0)\n",
    "        circ.barrier(0)\n",
    "        for i in range(num_Is):\n",
    "            circ.id(0)\n",
    "        circ.barrier(0)\n",
    "        circ.x(0)\n",
    "        circ.barrier(0)\n",
    "        for i in range(num_Is):\n",
    "            circ.id(0)\n",
    "        circ.barrier(0)\n",
    "        circ.y(0)\n",
    "        circ.barrier(0)\n",
    "        for i in range(num_Is):\n",
    "            circ.id(0)\n",
    "        circ.barrier(0)\n",
    "        circ.x(0)\n",
    "        circ.barrier(0)\n",
    "        for i in range(num_Is):\n",
    "            circ.id(0)\n",
    "        circ.barrier(0)\n",
    "    circ.measure(0, 0)\n",
    "    \n",
    "    return circ"
   ]
  },
  {
   "cell_type": "code",
   "execution_count": 14,
   "metadata": {},
   "outputs": [
    {
     "data": {
      "text/html": [
       "<pre style=\"word-wrap: normal;white-space: pre;background: #fff0;line-height: 1.1;font-family: &quot;Courier New&quot;,Courier,monospace\">      ░ ┌───┐ ░  ░ ┌───┐ ░  ░ ┌───┐ ░  ░ ┌───┐ ░  ░ ┌─┐\n",
       "q_0: ─░─┤ Y ├─░──░─┤ X ├─░──░─┤ Y ├─░──░─┤ X ├─░──░─┤M├\n",
       "      ░ └───┘ ░  ░ └───┘ ░  ░ └───┘ ░  ░ └───┘ ░  ░ └╥┘\n",
       "c_0: ════════════════════════════════════════════════╩═\n",
       "                                                       </pre>"
      ],
      "text/plain": [
       "      ░ ┌───┐ ░  ░ ┌───┐ ░  ░ ┌───┐ ░  ░ ┌───┐ ░  ░ ┌─┐\n",
       "q_0: ─░─┤ Y ├─░──░─┤ X ├─░──░─┤ Y ├─░──░─┤ X ├─░──░─┤M├\n",
       "      ░ └───┘ ░  ░ └───┘ ░  ░ └───┘ ░  ░ └───┘ ░  ░ └╥┘\n",
       "c_0: ════════════════════════════════════════════════╩═\n",
       "                                                       "
      ]
     },
     "execution_count": 14,
     "metadata": {},
     "output_type": "execute_result"
    }
   ],
   "source": [
    "## implementing the XY4 sequence\n",
    "qc4 = QuantumCircuit(1, 1)\n",
    "xy4(qc4, cycles, num_Is)\n",
    "qc4.draw()"
   ]
  },
  {
   "cell_type": "code",
   "execution_count": 14,
   "metadata": {},
   "outputs": [
    {
     "data": {
      "text/html": [
       "<pre style=\"word-wrap: normal;white-space: pre;background: #fff0;line-height: 1.1;font-family: &quot;Courier New&quot;,Courier,monospace\">      ░ ┌──────────────────┐ ░  ░ ┌─────────────┐ ░  ░ ┌──────────────────┐ ░ »\n",
       "q_0: ─░─┤ U3(pi,pi/2,pi/2) ├─░──░─┤ U3(pi,0,pi) ├─░──░─┤ U3(pi,pi/2,pi/2) ├─░─»\n",
       "      ░ └──────────────────┘ ░  ░ └─────────────┘ ░  ░ └──────────────────┘ ░ »\n",
       "c_0: ═════════════════════════════════════════════════════════════════════════»\n",
       "                                                                              »\n",
       "«      ░ ┌─────────────┐ ░  ░ ┌─┐\n",
       "«q_0: ─░─┤ U3(pi,0,pi) ├─░──░─┤M├\n",
       "«      ░ └─────────────┘ ░  ░ └╥┘\n",
       "«c_0: ═════════════════════════╩═\n",
       "«                                </pre>"
      ],
      "text/plain": [
       "      ░ ┌──────────────────┐ ░  ░ ┌─────────────┐ ░  ░ ┌──────────────────┐ ░ »\n",
       "q_0: ─░─┤ U3(pi,pi/2,pi/2) ├─░──░─┤ U3(pi,0,pi) ├─░──░─┤ U3(pi,pi/2,pi/2) ├─░─»\n",
       "      ░ └──────────────────┘ ░  ░ └─────────────┘ ░  ░ └──────────────────┘ ░ »\n",
       "c_0: ═════════════════════════════════════════════════════════════════════════»\n",
       "                                                                              »\n",
       "«      ░ ┌─────────────┐ ░  ░ ┌─┐\n",
       "«q_0: ─░─┤ U3(pi,0,pi) ├─░──░─┤M├\n",
       "«      ░ └─────────────┘ ░  ░ └╥┘\n",
       "«c_0: ═════════════════════════╩═\n",
       "«                                "
      ]
     },
     "execution_count": 14,
     "metadata": {},
     "output_type": "execute_result"
    }
   ],
   "source": [
    "transpiled_circ = transpile(qc4, backend) \n",
    "schedule = build_schedule(transpiled_circ, backend)\n",
    "transpiled_circ.draw()"
   ]
  },
  {
   "cell_type": "code",
   "execution_count": 15,
   "metadata": {},
   "outputs": [
    {
     "data": {
      "image/png": "[encoded data removed]",
      "text/plain": [
       "<Figure size 504x360 with 1 Axes>"
      ]
     },
     "execution_count": 15,
     "metadata": {},
     "output_type": "execute_result"
    }
   ],
   "source": [
    "result = execute(qc4, Aer.get_backend('qasm_simulator'),\n",
    "                 coupling_map=coupling_map,\n",
    "                 basis_gates=basis_gates,\n",
    "                 noise_model=noise_model).result()\n",
    "counts = result.get_counts(0)\n",
    "plot_histogram(counts)"
   ]
  },
  {
   "cell_type": "code",
   "execution_count": 49,
   "metadata": {},
   "outputs": [
    {
     "data": {
      "text/plain": [
       "{'1': 513, '0': 511}"
      ]
     },
     "execution_count": 49,
     "metadata": {},
     "output_type": "execute_result"
    }
   ],
   "source": [
    "counts"
   ]
  },
  {
   "cell_type": "markdown",
   "metadata": {},
   "source": [
    "## Testing the Ideal XY4 Pulse Sequence with Armonk QPU\n",
    "$$ XY4 = Y.f.X.f.Y.f.X.f $$"
   ]
  },
  {
   "cell_type": "code",
   "execution_count": 4,
   "metadata": {},
   "outputs": [
    {
     "data": {
      "image/png": "[encoded data removed]",
      "text/plain": [
       "<Figure size 504x360 with 1 Axes>"
      ]
     },
     "execution_count": 4,
     "metadata": {},
     "output_type": "execute_result"
    }
   ],
   "source": [
    "job = execute(qcf, backend, shots=1000)\n",
    "plot_histogram(job.result().get_counts(), color='midnightblue')"
   ]
  },
  {
   "cell_type": "code",
   "execution_count": 17,
   "metadata": {},
   "outputs": [
    {
     "data": {
      "text/plain": [
       "'Instruction not in basis gates: instruction: MEASTRIG, qubits: [0], params: []. Error code: 7000.'"
      ]
     },
     "execution_count": 17,
     "metadata": {},
     "output_type": "execute_result"
    }
   ],
   "source": [
    "job.error_message()"
   ]
  },
  {
   "cell_type": "code",
   "execution_count": 18,
   "metadata": {},
   "outputs": [
    {
     "ename": "IBMQJobFailureError",
     "evalue": "'Unable to retrieve result for job 5eae4fa55b4fb90012f80ab1. Job has failed. Use job.error_message() to get more details.'",
     "output_type": "error",
     "traceback": [
      "\u001b[0;31m---------------------------------------------------------------------------\u001b[0m",
      "\u001b[0;31mIBMQJobFailureError\u001b[0m                       Traceback (most recent call last)",
      "\u001b[0;32m<ipython-input-18-41a66f9b4c63>\u001b[0m in \u001b[0;36m<module>\u001b[0;34m\u001b[0m\n\u001b[1;32m      1\u001b[0m \u001b[0mjob\u001b[0m \u001b[0;34m=\u001b[0m \u001b[0mexecute\u001b[0m\u001b[0;34m(\u001b[0m\u001b[0mqc4\u001b[0m\u001b[0;34m,\u001b[0m \u001b[0mbackend\u001b[0m\u001b[0;34m,\u001b[0m \u001b[0mshots\u001b[0m\u001b[0;34m=\u001b[0m\u001b[0;36m4000\u001b[0m\u001b[0;34m)\u001b[0m\u001b[0;34m\u001b[0m\u001b[0;34m\u001b[0m\u001b[0m\n\u001b[0;32m----> 2\u001b[0;31m \u001b[0mplot_histogram\u001b[0m\u001b[0;34m(\u001b[0m\u001b[0mjob\u001b[0m\u001b[0;34m.\u001b[0m\u001b[0mresult\u001b[0m\u001b[0;34m(\u001b[0m\u001b[0;34m)\u001b[0m\u001b[0;34m.\u001b[0m\u001b[0mget_counts\u001b[0m\u001b[0;34m(\u001b[0m\u001b[0;34m)\u001b[0m\u001b[0;34m,\u001b[0m \u001b[0mcolor\u001b[0m\u001b[0;34m=\u001b[0m\u001b[0;34m'midnightblue'\u001b[0m\u001b[0;34m)\u001b[0m\u001b[0;34m\u001b[0m\u001b[0;34m\u001b[0m\u001b[0m\n\u001b[0m",
      "\u001b[0;32m~/opt/anaconda3/envs/test/lib/python3.8/site-packages/qiskit/providers/ibmq/job/ibmqjob.py\u001b[0m in \u001b[0;36mresult\u001b[0;34m(self, timeout, wait, partial, refresh)\u001b[0m\n\u001b[1;32m    250\u001b[0m \u001b[0;34m\u001b[0m\u001b[0m\n\u001b[1;32m    251\u001b[0m             \u001b[0;32mif\u001b[0m \u001b[0mself\u001b[0m\u001b[0;34m.\u001b[0m\u001b[0m_status\u001b[0m \u001b[0;32mis\u001b[0m \u001b[0mJobStatus\u001b[0m\u001b[0;34m.\u001b[0m\u001b[0mERROR\u001b[0m \u001b[0;32mand\u001b[0m \u001b[0;32mnot\u001b[0m \u001b[0mpartial\u001b[0m\u001b[0;34m:\u001b[0m\u001b[0;34m\u001b[0m\u001b[0;34m\u001b[0m\u001b[0m\n\u001b[0;32m--> 252\u001b[0;31m                 raise IBMQJobFailureError(\n\u001b[0m\u001b[1;32m    253\u001b[0m                     \u001b[0;34m'Unable to retrieve result for job {}. Job has failed. '\u001b[0m\u001b[0;34m\u001b[0m\u001b[0;34m\u001b[0m\u001b[0m\n\u001b[1;32m    254\u001b[0m                     'Use job.error_message() to get more details.'.format(self.job_id()))\n",
      "\u001b[0;31mIBMQJobFailureError\u001b[0m: 'Unable to retrieve result for job 5eae4fa55b4fb90012f80ab1. Job has failed. Use job.error_message() to get more details.'"
     ]
    }
   ],
   "source": [
    "job = execute(qc4, backend, shots=4000)\n",
    "plot_histogram(job.result().get_counts(), color='midnightblue')"
   ]
  },
  {
   "cell_type": "code",
   "execution_count": 20,
   "metadata": {},
   "outputs": [
    {
     "name": "stdout",
     "output_type": "stream",
     "text": [
      "<InstructionScheduleMap(1Q instructions:\n",
      "  q0: {'id', 'u3', 'u2', 'measure', 'u1', 'x'}\n",
      "Multi qubit instructions:\n",
      ")>\n"
     ]
    }
   ],
   "source": [
    "print(inst_map)"
   ]
  },
  {
   "cell_type": "code",
   "execution_count": 21,
   "metadata": {},
   "outputs": [
    {
     "data": {
      "text/plain": [
       "'Instruction not in basis gates: instruction: MEASTRIG, qubits: [0], params: []. Error code: 7000.'"
      ]
     },
     "execution_count": 21,
     "metadata": {},
     "output_type": "execute_result"
    }
   ],
   "source": [
    "job.error_message()"
   ]
  },
  {
   "cell_type": "markdown",
   "metadata": {},
   "source": [
    "# Outline of Project\n",
    "## Monday 27 April 2020\n",
    "## RNB (Revanth, Nic, Bruno)"
   ]
  },
  {
   "cell_type": "markdown",
   "metadata": {},
   "source": [
    "## 1. get simulators/QPUs to run robust genetic algorithm (RGAx) sequences\n",
    "### * see eq. 27, 40, E12, Tables II - IV\n",
    "### * We'll try identities with nothing more for free evolution, ignore $H_0$ in eq. 40?, ignore $\\epsilon$ (which should be out of our control), and play around with values of $\\tau_p$ (pulse app time)\n",
    "\n",
    "## 2. Get QPU details and find \"good\" parameters\n",
    "### * $J = ||H_{err}||$, $\\beta = ||H_B||$, $\\tau_p$, $\\tau_d$ (pulse interval)\n",
    "\n",
    "## 3. Check whether RGAx actually improves coherence\n",
    "### * compare to standard easy schemes like CDD\n",
    "\n",
    "## 4. Check whether RGA4 is actually optimal by exhaustive enumeration (experimentally but with same assumptions about Pulse-free-pulse-free etc... to have reasonable size search space)\n",
    "\n",
    "## 5. Check Pulse interval scaling relationships\n",
    "### *i.e. O($\\tau_d^n$)\n",
    "### * could be interesting also to try and adjust $\\epsilon$, $J$, $\\beta$, and $H_0$ manually via phase gates, coupling to *ancilla* qubits, etc...\n",
    "### *perhaps need to learn and use Pulse API for above bullet--but the API is not well explained on the docs (or at least not intutive to me)\n",
    "\n",
    "## 6. Contingent upon (5) a bit, see how RGAx compares to other DD methods behave under more serious pulse specification errors\n",
    "\n",
    "# -------\n",
    "# Bonus Material:\n",
    "\n",
    "## 7~) see how optimized fixed pulse interval sequences RGAx compare to sequences compare to non-simple DD methods such as UDD\n",
    "### * doing UDD, for example, probably relies on having gotten Pulse API to work--otherwise \"precisely\" timing pusles with simple native gates is probably not good enough \n",
    "\n",
    "## 8~) try to implement our DD scheme with an actual computation and see if it improves fidelity\n",
    "### *Issue: How to apply gates with interfereing with each other? Could just make $\\tau_d$ bigger... but too big and errors accumulate too fast?\n",
    "\n",
    "## 9~) \"Force\" J, $\\beta$ values by coupling single qubit to ancillas \n",
    "### * If we can get 8 to work, surely we can do this? "
   ]
  },
  {
   "cell_type": "code",
   "execution_count": null,
   "metadata": {},
   "outputs": [],
   "source": []
  }
 ],
 "metadata": {
  "kernelspec": {
   "display_name": "Python 3",
   "language": "python",
   "name": "python3"
  },
  "language_info": {
   "codemirror_mode": {
    "name": "ipython",
    "version": 3
   },
   "file_extension": ".py",
   "mimetype": "text/x-python",
   "name": "python",
   "nbconvert_exporter": "python",
   "pygments_lexer": "ipython3",
   "version": "3.8.2"
  }
 },
 "nbformat": 4,
 "nbformat_minor": 4
}
