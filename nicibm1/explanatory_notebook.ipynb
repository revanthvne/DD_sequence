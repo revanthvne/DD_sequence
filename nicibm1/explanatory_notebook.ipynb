{
 "cells": [
  {
   "cell_type": "code",
   "execution_count": null,
   "metadata": {},
   "outputs": [],
   "source": []
  },
  {
   "cell_type": "markdown",
   "metadata": {},
   "source": [
    "### General Considerations from Paper\n",
    "Consider a Hamiltonian of the form \n",
    "    $$H(t) = H_0 + H_C(t),$$\n",
    "where $H_0$ is a time-independent term which governs the system's internal dyanmics and $H_C(t)$ comes from the user-controlled DD pulses. Without loss of generaltiy, we can decompose $H_0$ into\n",
    "    $$H_0 \\equiv H_S \\otimes I_B + I_S \\otimes H_B + H_{SB},$$\n",
    "where $H_S$ is the pure system Hamilontian, $H_B$ is the pure bath Hamiltonian, and $H_{SB}$ is the system-bath interaction. For brevity, denote\n",
    "    $$H_{err} = H_S \\otimes I_B + H_{SB},$$\n",
    "where the label *error* will become apparent shortly.\n",
    "\n",
    "We assume we only have control over the system. Consequently, $H_C(t)$ cannot act on the environment directly--hence the demarcation of $H_{err}$. \n",
    "\n",
    "### Specific Hamiltonian Tested\n",
    "Generically, we're interested in a single qubit system coupled to general bounded environment operators, that is, \n",
    "    $$H_0 = \\sum_{\\mu \\in \\{I, x, y, z\\}} \\hspace{-0.25cm} \\sigma^{\\mu} \\otimes B_{\\mu},$$ but the GADD paper considers the environment to consist of a 4 qubit spin-bath with pair-wise coupling, that is\n",
    "        $$B^{\\mu} = \\sum_{i = 1, i \\neq j}^4 \\sum_{\\alpha, \\beta} c^{\\mu}_{\\alpha \\beta} (\\sigma_i^{\\alpha} \\otimes \\sigma_j^{\\beta}),$$\n",
    "where $i, j$ index bath qubits, $\\mu, \\alpha, \\beta \\in \\{I, x, y, z\\},$ and $c^{\\mu}_{\\alpha \\beta} \\in [0, 1]$ drawn from uniform random distribution. Note, the identity operatr terms in $B^{\\mu}$ allow for the pure system portion of $H_0$. \n",
    "\n",
    "### Form of the DD pulse\n",
    "The general form of a single qubit control Hamiltonian is\n",
    "    $$H_C(t) = \\frac{1}{2} \\sum_{\\mu \\in \\{x, y, z\\}} \\hspace{-0.25cm} V_\\mu (t) \\sigma^{\\mu},$$\n",
    "where $V_{\\mu}$ is the control field associated with the $\\sigma^{\\mu}$ degree of freedom.\n",
    "This papers considers various forms of $V_{\\mu}$ while keeping the pulse interval delay times $\\tau_d$ constant.\n",
    "\n",
    "In particular, it considers the following four regimes:\n",
    "#### 1. Ideal Pulse\n",
    "$$ V_\\mu (t) = \\sum_{j} \\phi_0 \\delta (t - t_j^\\mu) $$\n",
    "\n",
    "#### 2. Finite Width Pulse\n",
    "$$ V_\\mu (t) = \\sum_{j} \\phi_0 \\left[ \\Theta(t - t_j^\\mu ) - \\Theta(t - t_j^\\mu - \\tau_p) \\right] $$\n",
    "\n",
    "#### 3 & 4 Flip Angle Errors\n",
    "A flip angle error is a simple pulse application error which gives amplitude offset error to $V_\\mu$. That is, \n",
    "    $$\\phi_0 \\rightarrow \\phi_0 \\pm \\epsilon,$$\n",
    "for an over(under)-rotation, respectively."
   ]
  }
 ],
 "metadata": {
  "kernelspec": {
   "display_name": "Python 3",
   "language": "python",
   "name": "python3"
  },
  "language_info": {
   "codemirror_mode": {
    "name": "ipython",
    "version": 3
   },
   "file_extension": ".py",
   "mimetype": "text/x-python",
   "name": "python",
   "nbconvert_exporter": "python",
   "pygments_lexer": "ipython3",
   "version": "3.7.6"
  }
 },
 "nbformat": 4,
 "nbformat_minor": 4
}
